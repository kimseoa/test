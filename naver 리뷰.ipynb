{
  "nbformat": 4,
  "nbformat_minor": 0,
  "metadata": {
    "colab": {
      "name": "네이버 리뷰 분석 완성 10_04(제출)",
      "provenance": [],
      "collapsed_sections": [],
      "include_colab_link": true
    },
    "kernelspec": {
      "name": "python3",
      "display_name": "Python 3"
    },
    "accelerator": "GPU"
  },
  "cells": [
    {
      "cell_type": "markdown",
      "metadata": {
        "id": "view-in-github",
        "colab_type": "text"
      },
      "source": [
        "<a href=\"https://colab.research.google.com/github/kimseoa/test/blob/master/naver%20%EB%A6%AC%EB%B7%B0.ipynb\" target=\"_parent\"><img src=\"https://colab.research.google.com/assets/colab-badge.svg\" alt=\"Open In Colab\"/></a>"
      ]
    },
    {
      "cell_type": "code",
      "metadata": {
        "id": "ZYzQHI2z2CQ-",
        "colab_type": "code",
        "colab": {}
      },
      "source": [
        "#가장 도움되었던 참고사이트\n",
        "#https://medium.com/@adam.wearne/lets-get-sentimental-with-pytorch-dcdd9e1ea4c9\n",
        "#https://github.com/pytorch/text/blob/master/torchtext/data/field.py\n",
        "#https://simonjisu.github.io/nlp/2018/07/18/torchtext.html"
      ],
      "execution_count": 0,
      "outputs": []
    },
    {
      "cell_type": "code",
      "metadata": {
        "id": "hUiOg0iSoiEM",
        "colab_type": "code",
        "colab": {}
      },
      "source": [
        "from torchtext.data import TabularDataset\n",
        "from torchtext.data import Field\n",
        "from torchtext.data import LabelField\n",
        "import torch"
      ],
      "execution_count": 0,
      "outputs": []
    },
    {
      "cell_type": "code",
      "metadata": {
        "id": "-9HKs-IioQXw",
        "colab_type": "code",
        "outputId": "fd6c8884-a100-4f43-a668-3d999161cd12",
        "colab": {
          "base_uri": "https://localhost:8080/",
          "height": 125
        }
      },
      "source": [
        "from google.colab import drive\n",
        "drive.mount('/content/gdrive')"
      ],
      "execution_count": 0,
      "outputs": [
        {
          "output_type": "stream",
          "text": [
            "Go to this URL in a browser: https://accounts.google.com/o/oauth2/auth?client_id=947318989803-6bn6qk8qdgf4n4g3pfee6491hc0brc4i.apps.googleusercontent.com&redirect_uri=urn%3Aietf%3Awg%3Aoauth%3A2.0%3Aoob&scope=email%20https%3A%2F%2Fwww.googleapis.com%2Fauth%2Fdocs.test%20https%3A%2F%2Fwww.googleapis.com%2Fauth%2Fdrive%20https%3A%2F%2Fwww.googleapis.com%2Fauth%2Fdrive.photos.readonly%20https%3A%2F%2Fwww.googleapis.com%2Fauth%2Fpeopleapi.readonly&response_type=code\n",
            "\n",
            "Enter your authorization code:\n",
            "··········\n",
            "Mounted at /content/gdrive\n"
          ],
          "name": "stdout"
        }
      ]
    },
    {
      "cell_type": "code",
      "metadata": {
        "id": "VDyURkbioR7V",
        "colab_type": "code",
        "colab": {}
      },
      "source": [
        "from torchtext import data\n",
        "TEXT = data.Field(tokenize = 'spacy',include_lengths = True)\n",
        "\n",
        "# TEXT = Field(sequential=True,#데이터 유형이 순차 데이터를 나타내는 지 여부. 거짓이면토큰 화가 적용되지 않습니다. 기본값 : True\n",
        "#              use_vocab=True, #Vocab 객체 사용 여부. False이면이 데이터 필드는 이미 숫자 여야합니다. 기본값 : True\n",
        "#              tokenize=str.split, #문자열을 토큰 화하는 데 사용되는 함수\n",
        "#              lower=True, #텍스트를 소문자로\n",
        "#              batch_first=True)   #배치 치수가 먼저 텐서를 생성할지 여부.기본값 : False\n",
        "LABEL = LabelField(dtype=torch.float) #is designed to hold labels!"
      ],
      "execution_count": 0,
      "outputs": []
    },
    {
      "cell_type": "code",
      "metadata": {
        "id": "vrHtUEj9ob4O",
        "colab_type": "code",
        "colab": {}
      },
      "source": [
        "train_data = TabularDataset(path='/content/gdrive/My Drive/mountfile/ratings_train2.txt', format='tsv', fields=[('id', None),('text', TEXT), ('label', LABEL)],skip_header = True,filter_pred = lambda x: len(x.text) > 1)\n",
        "test_data = TabularDataset(path='/content/gdrive/My Drive/mountfile/ratings_test2.txt', format='tsv', fields=[('id', None),('text', TEXT), ('label', LABEL)],skip_header = True, filter_pred = lambda x: len(x.text) > 1 )"
      ],
      "execution_count": 0,
      "outputs": []
    },
    {
      "cell_type": "code",
      "metadata": {
        "id": "ss0V7FZX7U9D",
        "colab_type": "code",
        "colab": {}
      },
      "source": [
        "import random"
      ],
      "execution_count": 0,
      "outputs": []
    },
    {
      "cell_type": "code",
      "metadata": {
        "id": "cnaB_FDcpaQ_",
        "colab_type": "code",
        "colab": {}
      },
      "source": [
        "\n",
        "#Field객체를 인스턴스화하고 데이터를로드\n",
        "\n",
        "train_data, valid_data = train_data.split(random_state = random.seed(0)) #Field객체를 인스턴스화하고 데이터를로드"
      ],
      "execution_count": 0,
      "outputs": []
    },
    {
      "cell_type": "code",
      "metadata": {
        "id": "03qwbqXJ7hjF",
        "colab_type": "code",
        "outputId": "d3ff2d9a-3f2c-4b40-8fcd-7ceebc52486b",
        "colab": {
          "base_uri": "https://localhost:8080/",
          "height": 54
        }
      },
      "source": [
        "print(vars(train_data[0]))"
      ],
      "execution_count": 0,
      "outputs": [
        {
          "output_type": "stream",
          "text": [
            "{'text': ['키스한방에', '인생이', '역전되는', '한국드라마식', '영화', '하지만', '내용은최고엿다', '그치만', '평점이', '너무나도', '사기적이기에', '너무', '질투나서', '1점을', '준다', '실제론', '10점준거임'], 'label': '0'}\n"
          ],
          "name": "stdout"
        }
      ]
    },
    {
      "cell_type": "code",
      "metadata": {
        "id": "LCMMaLgvE53V",
        "colab_type": "code",
        "outputId": "1a251c51-a10d-4e9f-caa9-62af26c39c7f",
        "colab": {
          "base_uri": "https://localhost:8080/",
          "height": 70
        }
      },
      "source": [
        "\n",
        "print(f'Number of training examples: {len(train_data)}')\n",
        "print(f'Number of validation examples: {len(valid_data)}')\n",
        "print(f'Number of testing examples: {len(test_data)}')"
      ],
      "execution_count": 0,
      "outputs": [
        {
          "output_type": "stream",
          "text": [
            "Number of training examples: 98911\n",
            "Number of validation examples: 42390\n",
            "Number of testing examples: 47180\n"
          ],
          "name": "stdout"
        }
      ]
    },
    {
      "cell_type": "code",
      "metadata": {
        "id": "UFV6-s923vyR",
        "colab_type": "code",
        "outputId": "77a41339-33c8-4357-b88c-37cc39226840",
        "colab": {
          "base_uri": "https://localhost:8080/",
          "height": 52
        }
      },
      "source": [
        "MAX_VOCAB_SIZE = 50000\n",
        "\n",
        "TEXT.build_vocab(train_data, max_size = MAX_VOCAB_SIZE,\n",
        "                 vectors = \"glove.6B.100d\",   #임베딩 에는 나타나지 않는 단어 는 모두 0으로 구성된 벡터로 초기화\n",
        "                 unk_init = torch.Tensor.normal_) # 정규 분포에서 선택한 항목을 가진 벡터로 해당 단어를 설정(속도 빠르게)\n",
        "\n",
        "LABEL.build_vocab(train_data)"
      ],
      "execution_count": 0,
      "outputs": [
        {
          "output_type": "stream",
          "text": [
            ".vector_cache/glove.6B.zip: 862MB [00:43, 19.7MB/s]                           \n",
            "100%|█████████▉| 398331/400000 [00:20<00:00, 19712.94it/s]"
          ],
          "name": "stderr"
        }
      ]
    },
    {
      "cell_type": "code",
      "metadata": {
        "id": "3SR0Z5wBFHuU",
        "colab_type": "code",
        "outputId": "7bf14667-6216-41f4-97dc-0491dee0745c",
        "colab": {
          "base_uri": "https://localhost:8080/",
          "height": 52
        }
      },
      "source": [
        "print(f\"Unique tokens in TEXT vocabulary: {len(TEXT.vocab)}\")\n",
        "print(f\"Unique tokens in LABEL vocabulary: {len(LABEL.vocab)}\")"
      ],
      "execution_count": 0,
      "outputs": [
        {
          "output_type": "stream",
          "text": [
            "Unique tokens in TEXT vocabulary: 50002\n",
            "Unique tokens in LABEL vocabulary: 2\n"
          ],
          "name": "stdout"
        }
      ]
    },
    {
      "cell_type": "code",
      "metadata": {
        "id": "v-7oy2iYFLqT",
        "colab_type": "code",
        "outputId": "690dbc85-6217-46c8-e244-a6d2fd7f70ca",
        "colab": {
          "base_uri": "https://localhost:8080/",
          "height": 54
        }
      },
      "source": [
        "\n",
        "print(TEXT.vocab.freqs.most_common(20))"
      ],
      "execution_count": 0,
      "outputs": [
        {
          "output_type": "stream",
          "text": [
            "[('..', 21258), ('!', 19103), ('...', 16583), (',', 11631), ('?', 10626), ('영화', 10137), ('너무', 5928), ('정말', 5811), (';', 4680), ('진짜', 4484), ('....', 3822), ('이', 3620), ('영화.', 2534), ('그냥', 2423), ('왜', 2395), ('이런', 2349), ('더', 2293), ('\"', 2230), ('수', 2085), ('영화를', 1931)]\n"
          ],
          "name": "stdout"
        }
      ]
    },
    {
      "cell_type": "code",
      "metadata": {
        "id": "IBjHNbQ5FZfY",
        "colab_type": "code",
        "outputId": "840eda8e-1f55-4b21-cba2-233ddd281fc2",
        "colab": {
          "base_uri": "https://localhost:8080/",
          "height": 34
        }
      },
      "source": [
        "print(LABEL.vocab.stoi)"
      ],
      "execution_count": 0,
      "outputs": [
        {
          "output_type": "stream",
          "text": [
            "defaultdict(<function _default_unk_index at 0x7f1c3bd56c80>, {'0': 0, '1': 1})\n"
          ],
          "name": "stdout"
        }
      ]
    },
    {
      "cell_type": "code",
      "metadata": {
        "id": "X9711uc197tQ",
        "colab_type": "code",
        "colab": {}
      },
      "source": [
        "from torchtext import data\n",
        "BATCH_SIZE = 64\n",
        "\n",
        "device = torch.device('cuda' if torch.cuda.is_available() else 'cpu')\n",
        "\n",
        "train_iterator, valid_iterator, test_iterator = data.BucketIterator.splits(\n",
        "    (train_data, valid_data, test_data), \n",
        "    batch_size = BATCH_SIZE,\n",
        "    device = device,sort_within_batch = True,sort_key = lambda x: len(x.text)) # sort_within_batch:(self.sort_key에 따라 내림차순 한다 꼭 써야함. sort_key:비슷한 길이의 예제를 함께 배치하고 패딩을 최소화하기 위해 예제를 정렬하는 데 사용하는 키(꼭 써야함)\n"
      ],
      "execution_count": 0,
      "outputs": []
    },
    {
      "cell_type": "code",
      "metadata": {
        "id": "WgDJcuY29-G1",
        "colab_type": "code",
        "colab": {}
      },
      "source": [
        "import torch.nn as nn\n",
        "import torch.nn.functional as F\n",
        "\n",
        "import torch.nn as nn\n",
        "\n",
        "class RNN(nn.Module):\n",
        "    def __init__(self, vocab_size, embedding_dim, hidden_dim, output_dim, n_layers, \n",
        "                 bidirectional, dropout, pad_idx):\n",
        "        \n",
        "        super().__init__()\n",
        "        \n",
        "        self.embedding = nn.Embedding(vocab_size, embedding_dim, padding_idx = pad_idx)\n",
        "        \n",
        "        self.rnn = nn.LSTM(embedding_dim, \n",
        "                           hidden_dim, \n",
        "                           num_layers=n_layers, \n",
        "                           bidirectional=bidirectional, \n",
        "                           dropout=dropout)\n",
        "        \n",
        "        self.fc = nn.Linear(hidden_dim * 2, output_dim)\n",
        "        \n",
        "        self.dropout = nn.Dropout(dropout)\n",
        "        \n",
        "    def forward(self, text, text_lengths):\n",
        "        \n",
        "        #text = [sent len, batch size]\n",
        "        \n",
        "        embedded = self.dropout(self.embedding(text))\n",
        "        \n",
        "        #embedded = [sent len, batch size, emb dim]\n",
        "        \n",
        "        #pack sequence\n",
        "        packed_embedded = nn.utils.rnn.pack_padded_sequence(embedded, text_lengths)\n",
        "        \n",
        "        packed_output, (hidden, cell) = self.rnn(packed_embedded)\n",
        "        \n",
        "        #unpack sequence\n",
        "        output, output_lengths = nn.utils.rnn.pad_packed_sequence(packed_output)\n",
        "\n",
        "        #output = [sent len, batch size, hid dim * num directions]\n",
        "        #output over padding tokens are zero tensors\n",
        "        \n",
        "        #hidden = [num layers * num directions, batch size, hid dim]\n",
        "        #cell = [num layers * num directions, batch size, hid dim]\n",
        "        \n",
        "        #concat the final forward (hidden[-2,:,:]) and backward (hidden[-1,:,:]) hidden layers\n",
        "        #and apply dropout\n",
        "        \n",
        "        hidden = self.dropout(torch.cat((hidden[-2,:,:], hidden[-1,:,:]), dim = 1))\n",
        "                \n",
        "        #hidden = [batch size, hid dim * num directions]\n",
        "            \n",
        "        return self.fc(hidden)"
      ],
      "execution_count": 0,
      "outputs": []
    },
    {
      "cell_type": "code",
      "metadata": {
        "id": "UM97flYc-CTT",
        "colab_type": "code",
        "colab": {}
      },
      "source": [
        "\n",
        "INPUT_DIM = len(TEXT.vocab)\n",
        "EMBEDDING_DIM = 100\n",
        "HIDDEN_DIM = 256\n",
        "OUTPUT_DIM = 1\n",
        "N_LAYERS = 2\n",
        "BIDIRECTIONAL = True\n",
        "DROPOUT = 0.5\n",
        "PAD_IDX = TEXT.vocab.stoi[TEXT.pad_token]\n",
        "\n",
        "model = RNN(INPUT_DIM, \n",
        "            EMBEDDING_DIM, \n",
        "            HIDDEN_DIM, \n",
        "            OUTPUT_DIM, \n",
        "            N_LAYERS, \n",
        "            BIDIRECTIONAL, \n",
        "            DROPOUT, \n",
        "            PAD_IDX)"
      ],
      "execution_count": 0,
      "outputs": []
    },
    {
      "cell_type": "code",
      "metadata": {
        "id": "VDOyZPcR-ETv",
        "colab_type": "code",
        "outputId": "e707789c-2643-4f9a-e7dc-7a0d6357c91f",
        "colab": {
          "base_uri": "https://localhost:8080/",
          "height": 34
        }
      },
      "source": [
        "def count_parameters(model):\n",
        "    return sum(p.numel() for p in model.parameters() if p.requires_grad)\n",
        "\n",
        "print(f'The model has {count_parameters(model):,} trainable parameters')"
      ],
      "execution_count": 0,
      "outputs": [
        {
          "output_type": "stream",
          "text": [
            "The model has 7,310,857 trainable parameters\n"
          ],
          "name": "stdout"
        }
      ]
    },
    {
      "cell_type": "code",
      "metadata": {
        "id": "vd3cHGr2H50D",
        "colab_type": "code",
        "outputId": "02c5d09d-87e0-40e2-aaaa-550f46707101",
        "colab": {
          "base_uri": "https://localhost:8080/",
          "height": 34
        }
      },
      "source": [
        "pretrained_embeddings = TEXT.vocab.vectors  #vectors = \"glove.6B.100d\", 숫자 변경하면 torch size 변경됨\n",
        "\n",
        "print(pretrained_embeddings.shape)"
      ],
      "execution_count": 0,
      "outputs": [
        {
          "output_type": "stream",
          "text": [
            "torch.Size([50002, 100])\n"
          ],
          "name": "stdout"
        }
      ]
    },
    {
      "cell_type": "code",
      "metadata": {
        "id": "HaLkRbe8-GWH",
        "colab_type": "code",
        "outputId": "0f1b97da-e2d5-4de1-8bde-1a472c191991",
        "colab": {
          "base_uri": "https://localhost:8080/",
          "height": 246
        }
      },
      "source": [
        "\n",
        "model.embedding.weight.data.copy_(pretrained_embeddings)"
      ],
      "execution_count": 0,
      "outputs": [
        {
          "output_type": "execute_result",
          "data": {
            "text/plain": [
              "tensor([[ 2.9700e-01, -3.7852e-01, -1.8263e+00,  ...,  6.9256e-01,\n",
              "          6.1497e-01,  6.9305e-01],\n",
              "        [ 1.0096e+00, -6.7647e-01, -3.9467e-01,  ...,  9.0620e-01,\n",
              "         -1.0057e+00,  5.2581e-01],\n",
              "        [-1.9256e+00, -1.3820e+00, -3.0119e-02,  ...,  6.6690e-01,\n",
              "          2.0571e+00,  7.6489e-01],\n",
              "        ...,\n",
              "        [-8.3850e-01,  1.9119e+00,  1.3825e-03,  ..., -1.4235e+00,\n",
              "         -1.0343e+00,  3.1351e-01],\n",
              "        [-1.0747e+00,  3.8127e-01, -5.7731e-01,  ..., -5.4906e-01,\n",
              "         -3.4272e-01,  1.1652e+00],\n",
              "        [ 6.8391e-01, -5.5642e-02,  7.6247e-01,  ...,  2.3206e-01,\n",
              "          7.2023e-02, -9.5438e-01]])"
            ]
          },
          "metadata": {
            "tags": []
          },
          "execution_count": 19
        }
      ]
    },
    {
      "cell_type": "code",
      "metadata": {
        "id": "2057NyI9-IMk",
        "colab_type": "code",
        "outputId": "91a971f8-bbae-490b-a076-c6bc9b9053fe",
        "colab": {
          "base_uri": "https://localhost:8080/",
          "height": 246
        }
      },
      "source": [
        "\n",
        "UNK_IDX = TEXT.vocab.stoi[TEXT.unk_token]\n",
        "\n",
        "model.embedding.weight.data[UNK_IDX] = torch.zeros(EMBEDDING_DIM)\n",
        "model.embedding.weight.data[PAD_IDX] = torch.zeros(EMBEDDING_DIM)\n",
        "\n",
        "print(model.embedding.weight.data)"
      ],
      "execution_count": 0,
      "outputs": [
        {
          "output_type": "stream",
          "text": [
            "tensor([[ 0.0000e+00,  0.0000e+00,  0.0000e+00,  ...,  0.0000e+00,\n",
            "          0.0000e+00,  0.0000e+00],\n",
            "        [ 0.0000e+00,  0.0000e+00,  0.0000e+00,  ...,  0.0000e+00,\n",
            "          0.0000e+00,  0.0000e+00],\n",
            "        [-1.9256e+00, -1.3820e+00, -3.0119e-02,  ...,  6.6690e-01,\n",
            "          2.0571e+00,  7.6489e-01],\n",
            "        ...,\n",
            "        [-8.3850e-01,  1.9119e+00,  1.3825e-03,  ..., -1.4235e+00,\n",
            "         -1.0343e+00,  3.1351e-01],\n",
            "        [-1.0747e+00,  3.8127e-01, -5.7731e-01,  ..., -5.4906e-01,\n",
            "         -3.4272e-01,  1.1652e+00],\n",
            "        [ 6.8391e-01, -5.5642e-02,  7.6247e-01,  ...,  2.3206e-01,\n",
            "          7.2023e-02, -9.5438e-01]])\n"
          ],
          "name": "stdout"
        }
      ]
    },
    {
      "cell_type": "code",
      "metadata": {
        "id": "ky5AMrTJ-KAf",
        "colab_type": "code",
        "colab": {}
      },
      "source": [
        "\n",
        "import torch.optim as optim\n",
        "\n",
        "optimizer = optim.Adam(model.parameters())"
      ],
      "execution_count": 0,
      "outputs": []
    },
    {
      "cell_type": "code",
      "metadata": {
        "id": "3OdDZUWk-L5u",
        "colab_type": "code",
        "colab": {}
      },
      "source": [
        "\n",
        "criterion = nn.BCEWithLogitsLoss()\n",
        "\n",
        "model = model.to(device)\n",
        "criterion = criterion.to(device)"
      ],
      "execution_count": 0,
      "outputs": []
    },
    {
      "cell_type": "code",
      "metadata": {
        "id": "urMDPgu6ILIR",
        "colab_type": "code",
        "colab": {}
      },
      "source": [
        "\n",
        "def binary_accuracy(preds, y):\n",
        "    \"\"\"\n",
        "    Returns accuracy per batch, i.e. if you get 8/10 right, this returns 0.8, NOT 8\n",
        "    \"\"\"\n",
        "\n",
        "    #round predictions to the closest integer\n",
        "    rounded_preds = torch.round(torch.sigmoid(preds))\n",
        "    correct = (rounded_preds == y).float() #convert into float for division \n",
        "    acc = correct.sum() / len(correct)\n",
        "    return acc"
      ],
      "execution_count": 0,
      "outputs": []
    },
    {
      "cell_type": "code",
      "metadata": {
        "id": "5WZ8m71R-N5w",
        "colab_type": "code",
        "colab": {}
      },
      "source": [
        "def train(model, iterator, optimizer, criterion):\n",
        "    \n",
        "    epoch_loss = 0\n",
        "    epoch_acc = 0\n",
        "    \n",
        "    model.train()\n",
        "    \n",
        "    for batch in iterator:\n",
        "        \n",
        "        optimizer.zero_grad()\n",
        "        \n",
        "        text, text_lengths = batch.text\n",
        "        \n",
        "        predictions = model(text, text_lengths).squeeze(1)\n",
        "        \n",
        "        loss = criterion(predictions, batch.label)\n",
        "        \n",
        "        acc = binary_accuracy(predictions, batch.label)\n",
        "        \n",
        "        loss.backward()\n",
        "        \n",
        "        optimizer.step()\n",
        "        \n",
        "        epoch_loss += loss.item()\n",
        "        epoch_acc += acc.item()\n",
        "        \n",
        "    return epoch_loss / len(iterator), epoch_acc / len(iterator)"
      ],
      "execution_count": 0,
      "outputs": []
    },
    {
      "cell_type": "code",
      "metadata": {
        "id": "N5P4_8F1-QKl",
        "colab_type": "code",
        "colab": {}
      },
      "source": [
        "def evaluate(model, iterator, criterion):\n",
        "    \n",
        "    epoch_loss = 0\n",
        "    epoch_acc = 0\n",
        "    \n",
        "    model.eval()\n",
        "    \n",
        "    with torch.no_grad():\n",
        "    \n",
        "        for batch in iterator:\n",
        "\n",
        "            text, text_lengths = batch.text\n",
        "            \n",
        "            predictions = model(text, text_lengths).squeeze(1)\n",
        "            \n",
        "            loss = criterion(predictions, batch.label)\n",
        "            \n",
        "            acc = binary_accuracy(predictions, batch.label)\n",
        "\n",
        "            epoch_loss += loss.item()\n",
        "            epoch_acc += acc.item()\n",
        "        \n",
        "    return epoch_loss / len(iterator), epoch_acc / len(iterator)"
      ],
      "execution_count": 0,
      "outputs": []
    },
    {
      "cell_type": "code",
      "metadata": {
        "id": "iw7EZaGa-SIT",
        "colab_type": "code",
        "colab": {}
      },
      "source": [
        "\n",
        "import time\n",
        "\n",
        "def epoch_time(start_time, end_time):\n",
        "    elapsed_time = end_time - start_time\n",
        "    elapsed_mins = int(elapsed_time / 60)\n",
        "    elapsed_secs = int(elapsed_time - (elapsed_mins * 60))\n",
        "    return elapsed_mins, elapsed_secs"
      ],
      "execution_count": 0,
      "outputs": []
    },
    {
      "cell_type": "code",
      "metadata": {
        "id": "4kVbC8sW-UJU",
        "colab_type": "code",
        "outputId": "664a1456-481c-46ea-dae1-fbde4aa39a18",
        "colab": {
          "base_uri": "https://localhost:8080/",
          "height": 281
        }
      },
      "source": [
        "N_EPOCHS = 5\n",
        "\n",
        "best_valid_loss = float('inf')\n",
        "\n",
        "for epoch in range(N_EPOCHS):\n",
        "\n",
        "    start_time = time.time()\n",
        "    \n",
        "    train_loss, train_acc = train(model, train_iterator, optimizer, criterion)\n",
        "    valid_loss, valid_acc = evaluate(model, valid_iterator, criterion)\n",
        "    \n",
        "    end_time = time.time()\n",
        "\n",
        "    epoch_mins, epoch_secs = epoch_time(start_time, end_time)\n",
        "    \n",
        "    if valid_loss < best_valid_loss:\n",
        "        best_valid_loss = valid_loss\n",
        "        torch.save(model.state_dict(), 'tut2-model.pt')\n",
        "    \n",
        "    print(f'Epoch: {epoch+1:02} | Epoch Time: {epoch_mins}m {epoch_secs}s')\n",
        "    print(f'\\tTrain Loss: {train_loss:.3f} | Train Acc: {train_acc*100:.2f}%')\n",
        "    print(f'\\t Val. Loss: {valid_loss:.3f} |  Val. Acc: {valid_acc*100:.2f}%')"
      ],
      "execution_count": 0,
      "outputs": [
        {
          "output_type": "stream",
          "text": [
            "\r100%|█████████▉| 398331/400000 [00:40<00:00, 19712.94it/s]"
          ],
          "name": "stderr"
        },
        {
          "output_type": "stream",
          "text": [
            "Epoch: 01 | Epoch Time: 0m 33s\n",
            "\tTrain Loss: 0.603 | Train Acc: 66.23%\n",
            "\t Val. Loss: 0.510 |  Val. Acc: 75.15%\n",
            "Epoch: 02 | Epoch Time: 0m 33s\n",
            "\tTrain Loss: 0.501 | Train Acc: 74.83%\n",
            "\t Val. Loss: 0.447 |  Val. Acc: 78.46%\n",
            "Epoch: 03 | Epoch Time: 0m 32s\n",
            "\tTrain Loss: 0.443 | Train Acc: 78.38%\n",
            "\t Val. Loss: 0.419 |  Val. Acc: 80.10%\n",
            "Epoch: 04 | Epoch Time: 0m 32s\n",
            "\tTrain Loss: 0.405 | Train Acc: 80.77%\n",
            "\t Val. Loss: 0.403 |  Val. Acc: 80.91%\n",
            "Epoch: 05 | Epoch Time: 0m 32s\n",
            "\tTrain Loss: 0.376 | Train Acc: 82.48%\n",
            "\t Val. Loss: 0.401 |  Val. Acc: 81.32%\n"
          ],
          "name": "stdout"
        }
      ]
    },
    {
      "cell_type": "code",
      "metadata": {
        "id": "80dF6gW6-q2Q",
        "colab_type": "code",
        "colab": {}
      },
      "source": [
        ""
      ],
      "execution_count": 0,
      "outputs": []
    }
  ]
}